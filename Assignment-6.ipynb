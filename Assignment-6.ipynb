{
 "cells": [
  {
   "cell_type": "markdown",
   "metadata": {},
   "source": [
    " ### What is Object oriented programming\n",
    " \n",
    " Object Oriented Programming (OOPs) is a process when we develop program considering everything as an object. We see objects everywhere in our life, our life is full of objects in our surroundings. A Television is an object, A fridge is an object, our car, microwave, motorbikes everything is an object. Even we human beings are also objects. For knowing object oriented concepts first we need to understand the value of object. \n",
    "\n",
    "Someone can ask when we were very happy with functional programming, why and how this object oriented concept came in to existence. \n",
    "\n",
    "In computer programming we try to solve a real world issue with the help of virtual world solution. Let's suppose a real world scenario of objects. If I am running a company I am surrounded with a lot of objects I gathered for the benefit of my business. After every business machine every of my employee is an object. If I look this example of my company in depth I will look that how objects are connected with each other. My employess are objects, but they need a laptop or computer object to perform their work. Some of my employee need an Airconditioner object. \n",
    "\n",
    "Every object have certain \"attributes\" and same time those objects have some behaviors. In programming world Attributes can be imagined as \"Data\" or \"Properties\" like my employee's height is one attribute, his age, his name, even his complexion complexion all are properties or attributes of that particular object. \n",
    "\n",
    "After Attributes comes my behavior. I can talk, I can walk, I can shout or whisper, I can point and I can even grab or pick something.  All these are behaviors. Our actions define our behaviors. \n",
    "\n",
    "Object will have something where you can store data, or you can perform some actions. In our programming scenario variables perform the opteration of storing data. \n",
    "\n",
    "When we need to define behaviors we need to define through Methods.What are functions? In object oriented programming Functions which are written between Classes are called Methods. \n",
    "\n",
    "In object oriented programming we have different concepts. concepts are Objects, Classes, Encapsulation, Abstraction. Abstraction, Polymorphism. \n",
    "\n",
    "In summary Object Oriented Programming (OOPs) is a process where we create virtual. \n"
   ]
  },
  {
   "cell_type": "markdown",
   "metadata": {},
   "source": [
    "## Benefits of Object Oriented Programming\n",
    "\n",
    "•\tBecause of a proper distribution of code in several organized parts, it’s very easy to find bugs in OOP based program codes. Objects are self-contained, and each bit of functionality does its own thing while leaving the other bits alone. Also, this modality allows an IT team to work on multiple objects simultaneously while minimizing the chance that one person might duplicate someone else’s functionality.\n",
    "•\tSoftware complexity can be easily managed. \n",
    "•\tBecause of treating everything as an object we can model a real world concept using OOP. \n",
    "•\tPrograms writing in Object Orient Programming technique are comparatively easier to test, manage and maintain. \n",
    "•\tDistribution of functions, modules and classes keep the data more secure, since data is hidden and can’t be accessed by external functions. \n",
    "•\tIt offers reusability of classes, so we can reuse any class that is already created writing that again and again. \n",
    "•\tObject oriented programming is based on the imperative programming paradigm, which used statements to change a program’s state. It could easily focus on describing how a program should operate. \n"
   ]
  },
  {
   "cell_type": "markdown",
   "metadata": {},
   "source": [
    "## Difference between Function and Method\n",
    "\n",
    "### Functions\n",
    "\n",
    "A function is a piece of code that is called by name. It can be passed data to operate on (i.e. the parameters) and can optionally return data (the return value). All data that is passed to a function is explicitly passed.\n",
    "\n",
    "1.\tFunction is block of code that is also called by its name. (independent)\n",
    "2.\tThe function can have different parameters or may not have any at all. If any data (parameters) are passed, they are passed explicitly.\n",
    "3.\tIt may or may not return any data.\n",
    "4.\tFunction does not deal with Class and its instance concept.\n",
    "\n",
    "### Method\n",
    "\n",
    "A method is a piece of code that is called by a name that is associated with an object. In most respects it is identical to a function except for two key differences:\n",
    "1.\tA method is implicitly passed the object on which it was called.\n",
    "2.\tA method is able to operate on data that is contained within the class (remembering that an object is an instance of a class - the class is the definition, the object is an instance of that data).\n",
    "3.\tMethod is called by its name, but it is associated to an object (dependent).\n",
    "4.\tA method is implicitly passed the object on which it is invoked.\n",
    "5.\tIt may or may not return any data.\n",
    "6.\tA method can operate on the data (instance variables) that is contained by the corresponding class\n"
   ]
  },
  {
   "cell_type": "markdown",
   "metadata": {},
   "source": [
    "## Defining the terms Class, Object, Attribute and Behaviors\n",
    "\n",
    "### Class\n",
    "\n",
    "A class is basically a prototype or method to create objects. Through Classes we get a chance of gathering data, functionality and portability together. Once we have our class, we can instantiate it to create a new object. The newly built object has the type of the class it was instantiated form. \n",
    "We can create multiple objects from the same class, and each object will be unique. They will all have the same type, but they can store different values for their individual properties. \n",
    "We can also consider a class like a logical grouping of data and functions. These functions are referred to as “methods” when defined within a class). A class can contain any data we would like it to, and can have any functions (methods) attached to it that we like. \n",
    "\n",
    "### Object\n",
    "\n",
    "Objects are basically instances of the relevant classes. This is the actual appearance of the class manifested in the program. In object oriented programming focus remains on the creation of objects which contain both data and functionality together. Usually each object definition relates to some object or concept in the real world, and the functions that operate on that object correspond to the ways real-world objects interact. \n",
    "\n",
    "### Attribute\n",
    "\n",
    "Same as real world objects, object instances of object oriented programming have both attributes and methods. Instances create their own namespaces, and the syntax for accessing names contained in it, called attributes. In this case the attribute we are selecting is a data item from an instance. Attributes are owned by the class itself. Although these are shared between all the instances of the classes, but they have the same value for all the instances. As a normal practice attributes are defined right below the class header but at the top. In summary Attributes are the characteristics of the class that help to distinguish it from other classes. For example a person's attributes, include their age, name, and height.\n",
    "\n",
    "### Behaviors\n",
    "\n",
    "Every behavior is defined by its method.  Behaviors are the tasks that an object performs.  The methods and behaviors of an object can be represented by variables and methods in the class respectively. If we assume a person as a class then his behaviors would include his actions like walking, talking, running, jumping etc. \n",
    "\n"
   ]
  },
  {
   "cell_type": "code",
   "execution_count": 1,
   "metadata": {},
   "outputs": [
    {
     "name": "stdout",
     "output_type": "stream",
     "text": [
      "You have  Toyota Corolla Black of year  2015 which has  Automatic Transmission\n",
      "Airconditioned is turned off.\n",
      "Now the speed is :  0\n",
      "You also have following cars...\n",
      "You have  Suzuki Cultus Silver of year  2014 which has  Manual Transmission\n",
      "You have  Kia Planto Red of year  2019 which has  Automatic Transmission\n",
      "You have  Daihtsu Coure Blue of year  2016 which has  Automatic Transmission\n",
      "You have  Renault Zorro Red of year  2011 which has  Manual Transmission\n"
     ]
    }
   ],
   "source": [
    "# Creating Class Car\n",
    "\n",
    "class Car:\n",
    "    def __init__(self, made, model, color, year, transm):\n",
    "        self.made = made\n",
    "        self.model = model\n",
    "        self.color = color\n",
    "        self.year = year\n",
    "        self.transm = transm\n",
    "        self.startSpeed = 10\n",
    "        self.acStatus = True\n",
    "\n",
    "    def introCar(self):\n",
    "        print('You have ', self.made, self.model, self.color, 'of year ', self.year, 'which has ', self.transm, 'Transmission')\n",
    "\n",
    "    def race(self, incrSpeed):\n",
    "        self.startSpeed += incrSpeed\n",
    "        print('Now the speed is : ', self.startSpeed)\n",
    "\n",
    "    def parking():\n",
    "        print('The car is in Parking mode.')\n",
    "\n",
    "\n",
    "    def aircondition(self, acStatus):\n",
    "        if self.acStatus == True:\n",
    "            print('Airconditioned is turned off.')\n",
    "            self.acStatus = False\n",
    "        else:\n",
    "            self.acStatus == True\n",
    "            print('Airconditioned is turned On now')\n",
    "\n",
    "\n",
    "myToyota = Car('Toyota', 'Corolla', 'Black', 2015, 'Automatic')\n",
    "\n",
    "myToyota.introCar()\n",
    "\n",
    "myToyota.aircondition(False)\n",
    "\n",
    "myToyota.race(-10)\n",
    "\n",
    "\n",
    "mySuzuki = Car('Suzuki', 'Cultus', 'Silver', 2014, 'Manual')\n",
    "myKia = Car('Kia', 'Planto', 'Red', 2019, 'Automatic')\n",
    "myDaihatsu = Car('Daihtsu', 'Coure', 'Blue', 2016, 'Automatic')\n",
    "myRenault = Car('Renault', 'Zorro', 'Red', 2011, 'Manual')\n",
    "\n",
    "print('You also have following cars...')\n",
    "mySuzuki.introCar()\n",
    "myKia.introCar()\n",
    "myDaihatsu.introCar()\n",
    "myRenault.introCar()\n",
    "        \n"
   ]
  },
  {
   "cell_type": "code",
   "execution_count": null,
   "metadata": {},
   "outputs": [],
   "source": []
  }
 ],
 "metadata": {
  "kernelspec": {
   "display_name": "Python 3",
   "language": "python",
   "name": "python3"
  },
  "language_info": {
   "codemirror_mode": {
    "name": "ipython",
    "version": 3
   },
   "file_extension": ".py",
   "mimetype": "text/x-python",
   "name": "python",
   "nbconvert_exporter": "python",
   "pygments_lexer": "ipython3",
   "version": "3.7.4"
  }
 },
 "nbformat": 4,
 "nbformat_minor": 2
}
